{
 "cells": [
  {
   "cell_type": "markdown",
   "metadata": {},
   "source": [
    "# Astronaut data\n",
    "\n",
    "## Week 11 Class\n",
    "\n",
    "### Jeff's code\n",
    "\n",
    "Hello *there* **cool astronaut!**\n",
    "\n",
    "Python code looks like this: `print(2+3)`"
   ]
  },
  {
   "cell_type": "code",
   "execution_count": 1,
   "metadata": {
    "scrolled": false
   },
   "outputs": [
    {
     "name": "stdout",
     "output_type": "stream",
     "text": [
      "5\n"
     ]
    }
   ],
   "source": [
    "print(2 + 3)"
   ]
  },
  {
   "cell_type": "code",
   "execution_count": 2,
   "metadata": {},
   "outputs": [
    {
     "data": {
      "text/plain": [
       "'blah'"
      ]
     },
     "execution_count": 2,
     "metadata": {},
     "output_type": "execute_result"
    }
   ],
   "source": [
    "'blah'"
   ]
  },
  {
   "cell_type": "code",
   "execution_count": 3,
   "metadata": {},
   "outputs": [
    {
     "name": "stdout",
     "output_type": "stream",
     "text": [
      "blah\n"
     ]
    }
   ],
   "source": [
    "print('blah')"
   ]
  },
  {
   "cell_type": "code",
   "execution_count": 4,
   "metadata": {},
   "outputs": [],
   "source": [
    "import requests"
   ]
  },
  {
   "cell_type": "code",
   "execution_count": 5,
   "metadata": {},
   "outputs": [],
   "source": [
    "space = requests.get(\"http://api.open-notify.org/astros.json\")"
   ]
  },
  {
   "cell_type": "code",
   "execution_count": 6,
   "metadata": {},
   "outputs": [
    {
     "data": {
      "text/plain": [
       "<Response [200]>"
      ]
     },
     "execution_count": 6,
     "metadata": {},
     "output_type": "execute_result"
    }
   ],
   "source": [
    "space"
   ]
  },
  {
   "cell_type": "markdown",
   "metadata": {},
   "source": [
    "Here are some **cool astronauts**:"
   ]
  },
  {
   "cell_type": "code",
   "execution_count": 7,
   "metadata": {},
   "outputs": [
    {
     "data": {
      "text/plain": [
       "{'message': 'success',\n",
       " 'number': 7,\n",
       " 'people': [{'craft': 'ISS', 'name': 'Sergey Ryzhikov'},\n",
       "  {'craft': 'ISS', 'name': 'Kate Rubins'},\n",
       "  {'craft': 'ISS', 'name': 'Sergey Kud-Sverchkov'},\n",
       "  {'craft': 'ISS', 'name': 'Mike Hopkins'},\n",
       "  {'craft': 'ISS', 'name': 'Victor Glover'},\n",
       "  {'craft': 'ISS', 'name': 'Shannon Walker'},\n",
       "  {'craft': 'ISS', 'name': 'Soichi Noguchi'}]}"
      ]
     },
     "execution_count": 7,
     "metadata": {},
     "output_type": "execute_result"
    }
   ],
   "source": [
    "space.json()"
   ]
  },
  {
   "cell_type": "code",
   "execution_count": 8,
   "metadata": {},
   "outputs": [
    {
     "data": {
      "text/plain": [
       "'Sergey Ryzhikov'"
      ]
     },
     "execution_count": 8,
     "metadata": {},
     "output_type": "execute_result"
    }
   ],
   "source": [
    "space.json()['people'][0]['name']"
   ]
  },
  {
   "cell_type": "code",
   "execution_count": 9,
   "metadata": {},
   "outputs": [
    {
     "data": {
      "text/plain": [
       "[{'craft': 'ISS', 'name': 'Sergey Ryzhikov'},\n",
       " {'craft': 'ISS', 'name': 'Kate Rubins'},\n",
       " {'craft': 'ISS', 'name': 'Sergey Kud-Sverchkov'},\n",
       " {'craft': 'ISS', 'name': 'Mike Hopkins'},\n",
       " {'craft': 'ISS', 'name': 'Victor Glover'},\n",
       " {'craft': 'ISS', 'name': 'Shannon Walker'},\n",
       " {'craft': 'ISS', 'name': 'Soichi Noguchi'}]"
      ]
     },
     "execution_count": 9,
     "metadata": {},
     "output_type": "execute_result"
    }
   ],
   "source": [
    "space.json()['people']"
   ]
  },
  {
   "cell_type": "code",
   "execution_count": 10,
   "metadata": {},
   "outputs": [
    {
     "name": "stdout",
     "output_type": "stream",
     "text": [
      "You are in space, Sergey Ryzhikov\n",
      "You are in space, Kate Rubins\n",
      "You are in space, Sergey Kud-Sverchkov\n",
      "You are in space, Mike Hopkins\n",
      "You are in space, Victor Glover\n",
      "You are in space, Shannon Walker\n",
      "You are in space, Soichi Noguchi\n"
     ]
    }
   ],
   "source": [
    "for p in space.json()['people']:\n",
    "    print(f\"You are in space, {p['name']}\")"
   ]
  },
  {
   "cell_type": "code",
   "execution_count": 11,
   "metadata": {},
   "outputs": [
    {
     "data": {
      "text/plain": [
       "'You are cool and in space, Sergey Ryzhikov'"
      ]
     },
     "execution_count": 11,
     "metadata": {},
     "output_type": "execute_result"
    }
   ],
   "source": [
    "\"You are cool and in space, Sergey Ryzhikov\""
   ]
  },
  {
   "cell_type": "code",
   "execution_count": null,
   "metadata": {},
   "outputs": [],
   "source": []
  }
 ],
 "metadata": {
  "kernelspec": {
   "display_name": "Python 3",
   "language": "python",
   "name": "python3"
  },
  "language_info": {
   "codemirror_mode": {
    "name": "ipython",
    "version": 3
   },
   "file_extension": ".py",
   "mimetype": "text/x-python",
   "name": "python",
   "nbconvert_exporter": "python",
   "pygments_lexer": "ipython3",
   "version": "3.8.3"
  }
 },
 "nbformat": 4,
 "nbformat_minor": 2
}
